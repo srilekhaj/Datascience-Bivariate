{
 "cells": [
  {
   "cell_type": "markdown",
   "id": "b9f81b97-6098-4dbb-b73a-8f86e44c43a4",
   "metadata": {},
   "source": [
    "##### Download the dataset"
   ]
  },
  {
   "cell_type": "code",
   "execution_count": 3,
   "id": "23ed8bf9-3da8-42e9-8820-65ea77173bcc",
   "metadata": {},
   "outputs": [],
   "source": [
    "import pandas as pd"
   ]
  },
  {
   "cell_type": "code",
   "execution_count": 4,
   "id": "9462ad0e-2aa0-49b7-a145-a90c54f81c85",
   "metadata": {},
   "outputs": [],
   "source": [
    "dataset = pd.read_csv('Placement.csv')"
   ]
  },
  {
   "cell_type": "code",
   "execution_count": 5,
   "id": "7c58861e-890c-41bd-becf-1f55fa1ac346",
   "metadata": {
    "scrolled": true
   },
   "outputs": [
    {
     "data": {
      "text/html": [
       "<div>\n",
       "<style scoped>\n",
       "    .dataframe tbody tr th:only-of-type {\n",
       "        vertical-align: middle;\n",
       "    }\n",
       "\n",
       "    .dataframe tbody tr th {\n",
       "        vertical-align: top;\n",
       "    }\n",
       "\n",
       "    .dataframe thead th {\n",
       "        text-align: right;\n",
       "    }\n",
       "</style>\n",
       "<table border=\"1\" class=\"dataframe\">\n",
       "  <thead>\n",
       "    <tr style=\"text-align: right;\">\n",
       "      <th></th>\n",
       "      <th>sl_no</th>\n",
       "      <th>gender</th>\n",
       "      <th>ssc_p</th>\n",
       "      <th>ssc_b</th>\n",
       "      <th>hsc_p</th>\n",
       "      <th>hsc_b</th>\n",
       "      <th>hsc_s</th>\n",
       "      <th>degree_p</th>\n",
       "      <th>degree_t</th>\n",
       "      <th>workex</th>\n",
       "      <th>etest_p</th>\n",
       "      <th>specialisation</th>\n",
       "      <th>mba_p</th>\n",
       "      <th>status</th>\n",
       "      <th>salary</th>\n",
       "    </tr>\n",
       "  </thead>\n",
       "  <tbody>\n",
       "    <tr>\n",
       "      <th>0</th>\n",
       "      <td>1</td>\n",
       "      <td>M</td>\n",
       "      <td>67.00</td>\n",
       "      <td>Others</td>\n",
       "      <td>91.00</td>\n",
       "      <td>Others</td>\n",
       "      <td>Commerce</td>\n",
       "      <td>58.00</td>\n",
       "      <td>Sci&amp;Tech</td>\n",
       "      <td>No</td>\n",
       "      <td>55.0</td>\n",
       "      <td>Mkt&amp;HR</td>\n",
       "      <td>58.80</td>\n",
       "      <td>Placed</td>\n",
       "      <td>270000.0</td>\n",
       "    </tr>\n",
       "    <tr>\n",
       "      <th>1</th>\n",
       "      <td>2</td>\n",
       "      <td>M</td>\n",
       "      <td>79.33</td>\n",
       "      <td>Central</td>\n",
       "      <td>78.33</td>\n",
       "      <td>Others</td>\n",
       "      <td>Science</td>\n",
       "      <td>77.48</td>\n",
       "      <td>Sci&amp;Tech</td>\n",
       "      <td>Yes</td>\n",
       "      <td>86.5</td>\n",
       "      <td>Mkt&amp;Fin</td>\n",
       "      <td>66.28</td>\n",
       "      <td>Placed</td>\n",
       "      <td>200000.0</td>\n",
       "    </tr>\n",
       "    <tr>\n",
       "      <th>2</th>\n",
       "      <td>3</td>\n",
       "      <td>M</td>\n",
       "      <td>65.00</td>\n",
       "      <td>Central</td>\n",
       "      <td>68.00</td>\n",
       "      <td>Central</td>\n",
       "      <td>Arts</td>\n",
       "      <td>64.00</td>\n",
       "      <td>Comm&amp;Mgmt</td>\n",
       "      <td>No</td>\n",
       "      <td>75.0</td>\n",
       "      <td>Mkt&amp;Fin</td>\n",
       "      <td>57.80</td>\n",
       "      <td>Placed</td>\n",
       "      <td>250000.0</td>\n",
       "    </tr>\n",
       "    <tr>\n",
       "      <th>3</th>\n",
       "      <td>4</td>\n",
       "      <td>M</td>\n",
       "      <td>56.00</td>\n",
       "      <td>Central</td>\n",
       "      <td>52.00</td>\n",
       "      <td>Central</td>\n",
       "      <td>Science</td>\n",
       "      <td>52.00</td>\n",
       "      <td>Sci&amp;Tech</td>\n",
       "      <td>No</td>\n",
       "      <td>66.0</td>\n",
       "      <td>Mkt&amp;HR</td>\n",
       "      <td>59.43</td>\n",
       "      <td>Not Placed</td>\n",
       "      <td>NaN</td>\n",
       "    </tr>\n",
       "    <tr>\n",
       "      <th>4</th>\n",
       "      <td>5</td>\n",
       "      <td>M</td>\n",
       "      <td>85.80</td>\n",
       "      <td>Central</td>\n",
       "      <td>73.60</td>\n",
       "      <td>Central</td>\n",
       "      <td>Commerce</td>\n",
       "      <td>73.30</td>\n",
       "      <td>Comm&amp;Mgmt</td>\n",
       "      <td>No</td>\n",
       "      <td>96.8</td>\n",
       "      <td>Mkt&amp;Fin</td>\n",
       "      <td>55.50</td>\n",
       "      <td>Placed</td>\n",
       "      <td>425000.0</td>\n",
       "    </tr>\n",
       "    <tr>\n",
       "      <th>...</th>\n",
       "      <td>...</td>\n",
       "      <td>...</td>\n",
       "      <td>...</td>\n",
       "      <td>...</td>\n",
       "      <td>...</td>\n",
       "      <td>...</td>\n",
       "      <td>...</td>\n",
       "      <td>...</td>\n",
       "      <td>...</td>\n",
       "      <td>...</td>\n",
       "      <td>...</td>\n",
       "      <td>...</td>\n",
       "      <td>...</td>\n",
       "      <td>...</td>\n",
       "      <td>...</td>\n",
       "    </tr>\n",
       "    <tr>\n",
       "      <th>210</th>\n",
       "      <td>211</td>\n",
       "      <td>M</td>\n",
       "      <td>80.60</td>\n",
       "      <td>Others</td>\n",
       "      <td>82.00</td>\n",
       "      <td>Others</td>\n",
       "      <td>Commerce</td>\n",
       "      <td>77.60</td>\n",
       "      <td>Comm&amp;Mgmt</td>\n",
       "      <td>No</td>\n",
       "      <td>91.0</td>\n",
       "      <td>Mkt&amp;Fin</td>\n",
       "      <td>74.49</td>\n",
       "      <td>Placed</td>\n",
       "      <td>400000.0</td>\n",
       "    </tr>\n",
       "    <tr>\n",
       "      <th>211</th>\n",
       "      <td>212</td>\n",
       "      <td>M</td>\n",
       "      <td>58.00</td>\n",
       "      <td>Others</td>\n",
       "      <td>60.00</td>\n",
       "      <td>Others</td>\n",
       "      <td>Science</td>\n",
       "      <td>72.00</td>\n",
       "      <td>Sci&amp;Tech</td>\n",
       "      <td>No</td>\n",
       "      <td>74.0</td>\n",
       "      <td>Mkt&amp;Fin</td>\n",
       "      <td>53.62</td>\n",
       "      <td>Placed</td>\n",
       "      <td>275000.0</td>\n",
       "    </tr>\n",
       "    <tr>\n",
       "      <th>212</th>\n",
       "      <td>213</td>\n",
       "      <td>M</td>\n",
       "      <td>67.00</td>\n",
       "      <td>Others</td>\n",
       "      <td>67.00</td>\n",
       "      <td>Others</td>\n",
       "      <td>Commerce</td>\n",
       "      <td>73.00</td>\n",
       "      <td>Comm&amp;Mgmt</td>\n",
       "      <td>Yes</td>\n",
       "      <td>59.0</td>\n",
       "      <td>Mkt&amp;Fin</td>\n",
       "      <td>69.72</td>\n",
       "      <td>Placed</td>\n",
       "      <td>295000.0</td>\n",
       "    </tr>\n",
       "    <tr>\n",
       "      <th>213</th>\n",
       "      <td>214</td>\n",
       "      <td>F</td>\n",
       "      <td>74.00</td>\n",
       "      <td>Others</td>\n",
       "      <td>66.00</td>\n",
       "      <td>Others</td>\n",
       "      <td>Commerce</td>\n",
       "      <td>58.00</td>\n",
       "      <td>Comm&amp;Mgmt</td>\n",
       "      <td>No</td>\n",
       "      <td>70.0</td>\n",
       "      <td>Mkt&amp;HR</td>\n",
       "      <td>60.23</td>\n",
       "      <td>Placed</td>\n",
       "      <td>204000.0</td>\n",
       "    </tr>\n",
       "    <tr>\n",
       "      <th>214</th>\n",
       "      <td>215</td>\n",
       "      <td>M</td>\n",
       "      <td>62.00</td>\n",
       "      <td>Central</td>\n",
       "      <td>58.00</td>\n",
       "      <td>Others</td>\n",
       "      <td>Science</td>\n",
       "      <td>53.00</td>\n",
       "      <td>Comm&amp;Mgmt</td>\n",
       "      <td>No</td>\n",
       "      <td>89.0</td>\n",
       "      <td>Mkt&amp;HR</td>\n",
       "      <td>60.22</td>\n",
       "      <td>Not Placed</td>\n",
       "      <td>NaN</td>\n",
       "    </tr>\n",
       "  </tbody>\n",
       "</table>\n",
       "<p>215 rows × 15 columns</p>\n",
       "</div>"
      ],
      "text/plain": [
       "     sl_no gender  ssc_p    ssc_b  hsc_p    hsc_b     hsc_s  degree_p  \\\n",
       "0        1      M  67.00   Others  91.00   Others  Commerce     58.00   \n",
       "1        2      M  79.33  Central  78.33   Others   Science     77.48   \n",
       "2        3      M  65.00  Central  68.00  Central      Arts     64.00   \n",
       "3        4      M  56.00  Central  52.00  Central   Science     52.00   \n",
       "4        5      M  85.80  Central  73.60  Central  Commerce     73.30   \n",
       "..     ...    ...    ...      ...    ...      ...       ...       ...   \n",
       "210    211      M  80.60   Others  82.00   Others  Commerce     77.60   \n",
       "211    212      M  58.00   Others  60.00   Others   Science     72.00   \n",
       "212    213      M  67.00   Others  67.00   Others  Commerce     73.00   \n",
       "213    214      F  74.00   Others  66.00   Others  Commerce     58.00   \n",
       "214    215      M  62.00  Central  58.00   Others   Science     53.00   \n",
       "\n",
       "      degree_t workex  etest_p specialisation  mba_p      status    salary  \n",
       "0     Sci&Tech     No     55.0         Mkt&HR  58.80      Placed  270000.0  \n",
       "1     Sci&Tech    Yes     86.5        Mkt&Fin  66.28      Placed  200000.0  \n",
       "2    Comm&Mgmt     No     75.0        Mkt&Fin  57.80      Placed  250000.0  \n",
       "3     Sci&Tech     No     66.0         Mkt&HR  59.43  Not Placed       NaN  \n",
       "4    Comm&Mgmt     No     96.8        Mkt&Fin  55.50      Placed  425000.0  \n",
       "..         ...    ...      ...            ...    ...         ...       ...  \n",
       "210  Comm&Mgmt     No     91.0        Mkt&Fin  74.49      Placed  400000.0  \n",
       "211   Sci&Tech     No     74.0        Mkt&Fin  53.62      Placed  275000.0  \n",
       "212  Comm&Mgmt    Yes     59.0        Mkt&Fin  69.72      Placed  295000.0  \n",
       "213  Comm&Mgmt     No     70.0         Mkt&HR  60.23      Placed  204000.0  \n",
       "214  Comm&Mgmt     No     89.0         Mkt&HR  60.22  Not Placed       NaN  \n",
       "\n",
       "[215 rows x 15 columns]"
      ]
     },
     "execution_count": 5,
     "metadata": {},
     "output_type": "execute_result"
    }
   ],
   "source": [
    "dataset\n"
   ]
  },
  {
   "cell_type": "markdown",
   "id": "2b340cce-1c4e-49f1-9156-ebfc0f8d359b",
   "metadata": {},
   "source": [
    "##### 1)Replace the NaN values with correct value. And justify why you have chosen the same."
   ]
  },
  {
   "cell_type": "code",
   "execution_count": 6,
   "id": "78206245-16fe-48a7-80db-f916d28bcbd8",
   "metadata": {},
   "outputs": [
    {
     "data": {
      "text/plain": [
       "sl_no              0\n",
       "gender             0\n",
       "ssc_p              0\n",
       "ssc_b              0\n",
       "hsc_p              0\n",
       "hsc_b              0\n",
       "hsc_s              0\n",
       "degree_p           0\n",
       "degree_t           0\n",
       "workex             0\n",
       "etest_p            0\n",
       "specialisation     0\n",
       "mba_p              0\n",
       "status             0\n",
       "salary            67\n",
       "dtype: int64"
      ]
     },
     "execution_count": 6,
     "metadata": {},
     "output_type": "execute_result"
    }
   ],
   "source": [
    "dataset.isna().sum()"
   ]
  },
  {
   "cell_type": "code",
   "execution_count": 7,
   "id": "686d6290-9dfe-41d8-999b-ade2c1d3fac7",
   "metadata": {},
   "outputs": [
    {
     "data": {
      "text/plain": [
       "<Axes: xlabel='salary', ylabel='Count'>"
      ]
     },
     "execution_count": 7,
     "metadata": {},
     "output_type": "execute_result"
    },
    {
     "data": {
      "image/png": "[encoded data removed]",
      "text/plain": [
       "<Figure size 640x480 with 1 Axes>"
      ]
     },
     "metadata": {},
     "output_type": "display_data"
    }
   ],
   "source": [
    "import seaborn as sns\n",
    "sns.histplot(dataset['salary'], kde=True)\n"
   ]
  },
  {
   "cell_type": "code",
   "execution_count": 8,
   "id": "4b02f34d-c1e6-4d5f-9131-d4a0e00452a2",
   "metadata": {},
   "outputs": [
    {
     "data": {
      "text/plain": [
       "3.5697471998711054"
      ]
     },
     "execution_count": 8,
     "metadata": {},
     "output_type": "execute_result"
    }
   ],
   "source": [
    "dataset['salary'].skew()"
   ]
  },
  {
   "cell_type": "code",
   "execution_count": 9,
   "id": "1b58c543-f123-4bdb-bf82-a6cf608dd447",
   "metadata": {},
   "outputs": [
    {
     "data": {
      "text/plain": [
       "status\n",
       "Placed        148\n",
       "Not Placed     67\n",
       "Name: count, dtype: int64"
      ]
     },
     "execution_count": 9,
     "metadata": {},
     "output_type": "execute_result"
    }
   ],
   "source": [
    "dataset['status'].value_counts()"
   ]
  },
  {
   "cell_type": "code",
   "execution_count": 10,
   "id": "ceac000d-5f78-4031-81b0-468e5de6b97f",
   "metadata": {},
   "outputs": [
    {
     "data": {
      "text/plain": [
       "3     NaN\n",
       "5     NaN\n",
       "6     NaN\n",
       "9     NaN\n",
       "12    NaN\n",
       "       ..\n",
       "198   NaN\n",
       "201   NaN\n",
       "206   NaN\n",
       "208   NaN\n",
       "214   NaN\n",
       "Name: salary, Length: 67, dtype: float64"
      ]
     },
     "execution_count": 10,
     "metadata": {},
     "output_type": "execute_result"
    }
   ],
   "source": [
    "dataset[dataset['status']=='Not Placed']['salary']"
   ]
  },
  {
   "cell_type": "code",
   "execution_count": 11,
   "id": "458ee656-835d-4259-95f3-567a62707b97",
   "metadata": {},
   "outputs": [
    {
     "data": {
      "text/plain": [
       "(0, 15)"
      ]
     },
     "execution_count": 11,
     "metadata": {},
     "output_type": "execute_result"
    }
   ],
   "source": [
    "# check if status placed students and salary \n",
    "dataset[(dataset['status'] == 'Placed') & (dataset['salary'].isna())].shape\n"
   ]
  },
  {
   "cell_type": "code",
   "execution_count": 12,
   "id": "39298574-dd52-4fdb-9383-60875af3afa0",
   "metadata": {},
   "outputs": [
    {
     "name": "stderr",
     "output_type": "stream",
     "text": [
      "C:\\Users\\jsril\\AppData\\Local\\Temp\\ipykernel_6736\\3791302973.py:1: FutureWarning: A value is trying to be set on a copy of a DataFrame or Series through chained assignment using an inplace method.\n",
      "The behavior will change in pandas 3.0. This inplace method will never work because the intermediate object on which we are setting values always behaves as a copy.\n",
      "\n",
      "For example, when doing 'df[col].method(value, inplace=True)', try using 'df.method({col: value}, inplace=True)' or df[col] = df[col].method(value) instead, to perform the operation inplace on the original object.\n",
      "\n",
      "\n",
      "  dataset['salary'].fillna(0, inplace=True)\n"
     ]
    }
   ],
   "source": [
    "dataset['salary'].fillna(0, inplace=True)"
   ]
  },
  {
   "cell_type": "markdown",
   "id": "0a90470e-57c9-4955-a1c4-fe49685e76c9",
   "metadata": {},
   "source": [
    "##### 2)How many of them are not placed?"
   ]
  },
  {
   "cell_type": "code",
   "execution_count": 13,
   "id": "0182336b-e280-48c3-a1dc-40613fe1c011",
   "metadata": {},
   "outputs": [
    {
     "data": {
      "text/plain": [
       "status\n",
       "Placed        148\n",
       "Not Placed     67\n",
       "Name: count, dtype: int64"
      ]
     },
     "execution_count": 13,
     "metadata": {},
     "output_type": "execute_result"
    }
   ],
   "source": [
    "dataset['status'].value_counts()"
   ]
  },
  {
   "cell_type": "markdown",
   "id": "e069a3e5-cbbe-4b4f-993d-9a26582dc762",
   "metadata": {},
   "source": [
    "#####  3)Find the reason for non placement from the dataset?\n",
    "##### Answer: lower academic performance, lack of work experience, and less in-demand MBA specializations or degree types.\n",
    "."
   ]
  },
  {
   "cell_type": "markdown",
   "id": "4d10f667-73cd-4b17-a6a6-3b369a80dcc4",
   "metadata": {},
   "source": [
    "##### 4)What kind of relation between salary and mba_p"
   ]
  },
  {
   "cell_type": "code",
   "execution_count": 14,
   "id": "f40fd6fe-272f-47f6-abb6-1915199d1617",
   "metadata": {},
   "outputs": [
    {
     "data": {
      "text/plain": [
       "0.13982273892615557"
      ]
     },
     "execution_count": 14,
     "metadata": {},
     "output_type": "execute_result"
    }
   ],
   "source": [
    "dataset['mba_p'].corr(dataset['salary'])"
   ]
  },
  {
   "cell_type": "code",
   "execution_count": 15,
   "id": "c4504b15-9c64-47a3-b9a0-8a98da760395",
   "metadata": {},
   "outputs": [
    {
     "data": {
      "text/plain": [
       "0.17501294069527482"
      ]
     },
     "execution_count": 15,
     "metadata": {},
     "output_type": "execute_result"
    }
   ],
   "source": [
    "correlation = dataset[dataset['status'] == 'Placed']['mba_p'].corr(dataset[dataset['status'] == 'Placed']['salary'])\n",
    "correlation"
   ]
  },
  {
   "cell_type": "markdown",
   "id": "29ad5813-612a-4383-a6e7-a291a4e10475",
   "metadata": {},
   "source": [
    "##### 5)Which specialization is getting minimum salary?"
   ]
  },
  {
   "cell_type": "code",
   "execution_count": 16,
   "id": "7303b6e7-c347-4fb8-8d82-4406e3ccfd83",
   "metadata": {},
   "outputs": [
    {
     "data": {
      "text/plain": [
       "array(['Mkt&Fin', 'Mkt&HR'], dtype=object)"
      ]
     },
     "execution_count": 16,
     "metadata": {},
     "output_type": "execute_result"
    }
   ],
   "source": [
    "minsalary = dataset[dataset['status'] == 'Placed']['salary'].min()\n",
    "result = dataset[(dataset['status'] == 'Placed') & (dataset['salary']==minsalary)]['specialisation']\n",
    "result.unique()"
   ]
  },
  {
   "cell_type": "markdown",
   "id": "38a9fee9-026e-48b5-8190-dd944c562d53",
   "metadata": {},
   "source": [
    "##### 6)How many of them getting above 500000 salary?"
   ]
  },
  {
   "cell_type": "code",
   "execution_count": 17,
   "id": "68ee582f-e16e-4a5d-a295-9bca9452a3cb",
   "metadata": {},
   "outputs": [
    {
     "data": {
      "text/html": [
       "<div>\n",
       "<style scoped>\n",
       "    .dataframe tbody tr th:only-of-type {\n",
       "        vertical-align: middle;\n",
       "    }\n",
       "\n",
       "    .dataframe tbody tr th {\n",
       "        vertical-align: top;\n",
       "    }\n",
       "\n",
       "    .dataframe thead th {\n",
       "        text-align: right;\n",
       "    }\n",
       "</style>\n",
       "<table border=\"1\" class=\"dataframe\">\n",
       "  <thead>\n",
       "    <tr style=\"text-align: right;\">\n",
       "      <th></th>\n",
       "      <th>sl_no</th>\n",
       "      <th>gender</th>\n",
       "      <th>ssc_p</th>\n",
       "      <th>ssc_b</th>\n",
       "      <th>hsc_p</th>\n",
       "      <th>hsc_b</th>\n",
       "      <th>hsc_s</th>\n",
       "      <th>degree_p</th>\n",
       "      <th>degree_t</th>\n",
       "      <th>workex</th>\n",
       "      <th>etest_p</th>\n",
       "      <th>specialisation</th>\n",
       "      <th>mba_p</th>\n",
       "      <th>status</th>\n",
       "      <th>salary</th>\n",
       "    </tr>\n",
       "  </thead>\n",
       "  <tbody>\n",
       "    <tr>\n",
       "      <th>119</th>\n",
       "      <td>120</td>\n",
       "      <td>M</td>\n",
       "      <td>60.8</td>\n",
       "      <td>Central</td>\n",
       "      <td>68.40</td>\n",
       "      <td>Central</td>\n",
       "      <td>Commerce</td>\n",
       "      <td>64.6</td>\n",
       "      <td>Comm&amp;Mgmt</td>\n",
       "      <td>Yes</td>\n",
       "      <td>82.66</td>\n",
       "      <td>Mkt&amp;Fin</td>\n",
       "      <td>64.34</td>\n",
       "      <td>Placed</td>\n",
       "      <td>940000.0</td>\n",
       "    </tr>\n",
       "    <tr>\n",
       "      <th>150</th>\n",
       "      <td>151</td>\n",
       "      <td>M</td>\n",
       "      <td>71.0</td>\n",
       "      <td>Central</td>\n",
       "      <td>58.66</td>\n",
       "      <td>Central</td>\n",
       "      <td>Science</td>\n",
       "      <td>58.0</td>\n",
       "      <td>Sci&amp;Tech</td>\n",
       "      <td>Yes</td>\n",
       "      <td>56.00</td>\n",
       "      <td>Mkt&amp;Fin</td>\n",
       "      <td>61.30</td>\n",
       "      <td>Placed</td>\n",
       "      <td>690000.0</td>\n",
       "    </tr>\n",
       "    <tr>\n",
       "      <th>177</th>\n",
       "      <td>178</td>\n",
       "      <td>F</td>\n",
       "      <td>73.0</td>\n",
       "      <td>Central</td>\n",
       "      <td>97.00</td>\n",
       "      <td>Others</td>\n",
       "      <td>Commerce</td>\n",
       "      <td>79.0</td>\n",
       "      <td>Comm&amp;Mgmt</td>\n",
       "      <td>Yes</td>\n",
       "      <td>89.00</td>\n",
       "      <td>Mkt&amp;Fin</td>\n",
       "      <td>70.81</td>\n",
       "      <td>Placed</td>\n",
       "      <td>650000.0</td>\n",
       "    </tr>\n",
       "  </tbody>\n",
       "</table>\n",
       "</div>"
      ],
      "text/plain": [
       "     sl_no gender  ssc_p    ssc_b  hsc_p    hsc_b     hsc_s  degree_p  \\\n",
       "119    120      M   60.8  Central  68.40  Central  Commerce      64.6   \n",
       "150    151      M   71.0  Central  58.66  Central   Science      58.0   \n",
       "177    178      F   73.0  Central  97.00   Others  Commerce      79.0   \n",
       "\n",
       "      degree_t workex  etest_p specialisation  mba_p  status    salary  \n",
       "119  Comm&Mgmt    Yes    82.66        Mkt&Fin  64.34  Placed  940000.0  \n",
       "150   Sci&Tech    Yes    56.00        Mkt&Fin  61.30  Placed  690000.0  \n",
       "177  Comm&Mgmt    Yes    89.00        Mkt&Fin  70.81  Placed  650000.0  "
      ]
     },
     "execution_count": 17,
     "metadata": {},
     "output_type": "execute_result"
    }
   ],
   "source": [
    "dataset[dataset['salary']>500000]"
   ]
  },
  {
   "cell_type": "code",
   "execution_count": 18,
   "id": "6cf9eb43-2817-47d6-8377-9224760b4e38",
   "metadata": {},
   "outputs": [],
   "source": [
    "dataset.drop('sl_no',axis=1,inplace=True)"
   ]
  },
  {
   "cell_type": "markdown",
   "id": "5c845eea-0839-4f90-af66-76bec854adcb",
   "metadata": {},
   "source": [
    "##### 7)Test the Analysis of Variance between etest_p and mba_p at signifance level 5%.(Make decision using Hypothesis Testing)"
   ]
  },
  {
   "cell_type": "code",
   "execution_count": 19,
   "id": "5fa3a63d-21af-4192-ade4-a98113a56e8b",
   "metadata": {},
   "outputs": [
    {
     "name": "stdout",
     "output_type": "stream",
     "text": [
      "4.672547689133573e-21\n",
      "Reject Null Hypothesis: There is a significant difference between etest_p and mba_p.\n"
     ]
    }
   ],
   "source": [
    "from scipy import stats\n",
    "\n",
    "# Get the values for etest_p and mba_p\n",
    "ettest_p_values = dataset['etest_p']\n",
    "mba_p_values = dataset['mba_p']\n",
    "\n",
    "# Perform One-way ANOVA\n",
    "f_stat, p_value = stats.f_oneway(ettest_p_values, mba_p_values)\n",
    "print(p_value)\n",
    "# Hypothesis Testing Decision\n",
    "if p_value < 0.05:\n",
    "    print(\"Reject Null Hypothesis: There is a significant difference between etest_p and mba_p.\")\n",
    "else:\n",
    "    print(\"Fail to Reject Null Hypothesis: There is no significant difference between etest_p and mba_p.\")"
   ]
  },
  {
   "cell_type": "markdown",
   "id": "30dab967-9afb-4d21-867a-85313d8dee24",
   "metadata": {},
   "source": [
    "* If the p-value is less than 0.05, then **reject the null hypothesis** and conclude there is a significant difference. accept H1\n",
    "* If the p-value is greater than 0.05, then **failed to reject the null hypothesis**, meaning the means are statistically similar. accept H0"
   ]
  },
  {
   "cell_type": "markdown",
   "id": "35e0cfe7-d2fe-478b-96eb-40ec6f55c4e9",
   "metadata": {},
   "source": [
    "##### 8)Test the similarity between the degree_t(Sci&Tech) and specialisation(Mkt&HR) with respect to salary at significance level of 5%.(Make decision using Hypothesis Testing\n",
    "##### Unpaired sample - Different group same condition "
   ]
  },
  {
   "cell_type": "code",
   "execution_count": 20,
   "id": "a98150c0-db8d-4742-8b45-7d636bf593b3",
   "metadata": {},
   "outputs": [
    {
     "name": "stdout",
     "output_type": "stream",
     "text": [
      "Number of Sci&Tech salaries: 59\n",
      "Number of Mkt&HR salaries: 95\n",
      "2.692041243555374 0.007897969943471179\n",
      "Reject Null Hypothesis: There is a significant difference in salary between Sci&Tech and Mkt&HR students.\n"
     ]
    }
   ],
   "source": [
    "from scipy.stats import ttest_ind\n",
    "dataset= dataset.dropna()\n",
    "deg_t = dataset[dataset['degree_t']=='Sci&Tech']['salary']\n",
    "spec_t = dataset[dataset['specialisation']=='Mkt&HR']['salary']\n",
    "\n",
    "print(f\"Number of Sci&Tech salaries: {len(deg_t)}\")\n",
    "print(f\"Number of Mkt&HR salaries: {len(spec_t)}\")\n",
    "\n",
    "t_stats, p_value = ttest_ind(deg_t,spec_t)\n",
    "print(t_stats,p_value)\n",
    "# Hypothesis Testing Decision\n",
    "if p_value < 0.05:\n",
    "    print(\"Reject Null Hypothesis: There is a significant difference in salary between Sci&Tech and Mkt&HR students.\")\n",
    "else:\n",
    "    print(\"Fail to Reject Null Hypothesis: There is no significant difference in salary between Sci&Tech and Mkt&HR students.\")"
   ]
  },
  {
   "cell_type": "markdown",
   "id": "c9448320-4244-4e06-aad3-cd917fd7638b",
   "metadata": {},
   "source": [
    "##### 9)Convert the normal distribution to standard normal distribution for salary column"
   ]
  },
  {
   "cell_type": "code",
   "execution_count": 21,
   "id": "0c265c17-20ee-43b0-8877-c6ce11336804",
   "metadata": {},
   "outputs": [
    {
     "data": {
      "image/png": "[encoded data removed]",
      "text/plain": [
       "<Figure size 500x500 with 1 Axes>"
      ]
     },
     "metadata": {},
     "output_type": "display_data"
    }
   ],
   "source": [
    "def SND(d):\n",
    "    import seaborn as sns\n",
    "    mean = d.mean()\n",
    "    std = d.std()\n",
    "    values = [i for i in d]\n",
    "    # print(values)\n",
    "    zscore = [((j-mean)/std) for j in values]\n",
    "    # print(zscore)\n",
    "    res = sum(zscore)\n",
    "    # print(res)\n",
    "    sns.displot(zscore,kde=True)\n",
    "SND(dataset['ssc_p'])\n",
    "    "
   ]
  },
  {
   "cell_type": "markdown",
   "id": "c8ec291a-2376-447d-80f6-d8a9df74147f",
   "metadata": {},
   "source": [
    "##### 10)What is the probability Density Function of the salary range from 700000 to 900000?"
   ]
  },
  {
   "cell_type": "code",
   "execution_count": 22,
   "id": "761a8ffb-534f-46df-859b-45066d1e4bd6",
   "metadata": {},
   "outputs": [
    {
     "name": "stdout",
     "output_type": "stream",
     "text": [
      "Mean=%.3f, Standard Deviation=%.3f (198702.32558139536, 154780.92671560106)\n",
      "1.3506388093272432e-08\n"
     ]
    }
   ],
   "source": [
    "from scipy.stats import norm\n",
    "\n",
    "startrange=700000\n",
    "endrange=900000\n",
    "sample = dataset['salary']\n",
    "# calculate parameters\n",
    "sample_mean =sample.mean()\n",
    "sample_std = sample.std()\n",
    "print('Mean=%.3f, Standard Deviation=%.3f', (sample_mean, sample_std))\n",
    "# define the distribution\n",
    "dist = norm(sample_mean, sample_std)\n",
    "p1 = dist.pdf(startrange)\n",
    "p2 = dist.pdf(endrange)\n",
    "p3 = p1-p2\n",
    "print(p3)\n"
   ]
  },
  {
   "cell_type": "markdown",
   "id": "306886ab-9def-46c7-a176-5f6ec4bdf53c",
   "metadata": {},
   "source": [
    "#####  11)Test the similarity between the degree_t(Sci&Tech)with respect to etest_p and mba_p at significance level of 5%.(Make decision using Hypothesis Testing)\n",
    "##### Paired sample - same group different condition"
   ]
  },
  {
   "cell_type": "code",
   "execution_count": 23,
   "id": "2c4682f5-d1d2-41cd-bd18-deb18d73b0ea",
   "metadata": {},
   "outputs": [
    {
     "name": "stdout",
     "output_type": "stream",
     "text": [
      "4.532000225151251 1.4289217003775636e-05\n",
      "Reject Null Hypothesis: There is a significant difference between etest_p and mba_p.\n"
     ]
    }
   ],
   "source": [
    "from scipy.stats import ttest_ind\n",
    "dataset= dataset.dropna()\n",
    "etest = dataset[dataset['degree_t']=='Sci&Tech']['etest_p']\n",
    "mba = dataset[dataset['degree_t']=='Sci&Tech']['mba_p']\n",
    "\n",
    "t_stats, p_value = ttest_ind(etest,mba)\n",
    "print(t_stats,p_value)\n",
    "# Hypothesis Testing Decision\n",
    "if p_value < 0.05:\n",
    "    print(\"Reject Null Hypothesis: There is a significant difference between etest_p and mba_p.\")\n",
    "else:\n",
    "    print(\"Fail to Reject Null Hypothesis: There is no significant difference between etest_p and mba_p.\")"
   ]
  },
  {
   "cell_type": "markdown",
   "id": "63bdad28-353e-4376-804f-7cdeb7a9f361",
   "metadata": {},
   "source": [
    "##### 12)Which parameter is highly correlated with salary?\n",
    "##### 13) plot any useful graph and explain it"
   ]
  },
  {
   "cell_type": "markdown",
   "id": "fdcd1f27-ad8c-4fa6-a811-d01170416946",
   "metadata": {},
   "source": [
    "`Correlation can be found in numerical columns only. So, to find the correlation we need to split the columns into quantitative and qualitative columns. the categorical columns have datatype object storing in qualitative list and other datatype columns are storing in quantitative list. Then we can easily find the correlation for the quantitative columns`"
   ]
  },
  {
   "cell_type": "code",
   "execution_count": 24,
   "id": "9361965f-9616-47f1-a03d-15cd1c2c000a",
   "metadata": {},
   "outputs": [],
   "source": [
    "quan = []\n",
    "qual = []\n",
    "for column in dataset.columns:\n",
    "    if dataset[column].dtype =='O':\n",
    "        qual.append(column)\n",
    "    else:\n",
    "        quan.append(column)\n",
    "        "
   ]
  },
  {
   "cell_type": "code",
   "execution_count": 25,
   "id": "e3a8d431-52e5-41b4-84e9-4f9536f4f5d6",
   "metadata": {},
   "outputs": [
    {
     "data": {
      "text/html": [
       "<div>\n",
       "<style scoped>\n",
       "    .dataframe tbody tr th:only-of-type {\n",
       "        vertical-align: middle;\n",
       "    }\n",
       "\n",
       "    .dataframe tbody tr th {\n",
       "        vertical-align: top;\n",
       "    }\n",
       "\n",
       "    .dataframe thead th {\n",
       "        text-align: right;\n",
       "    }\n",
       "</style>\n",
       "<table border=\"1\" class=\"dataframe\">\n",
       "  <thead>\n",
       "    <tr style=\"text-align: right;\">\n",
       "      <th></th>\n",
       "      <th>ssc_p</th>\n",
       "      <th>hsc_p</th>\n",
       "      <th>degree_p</th>\n",
       "      <th>etest_p</th>\n",
       "      <th>mba_p</th>\n",
       "      <th>salary</th>\n",
       "    </tr>\n",
       "  </thead>\n",
       "  <tbody>\n",
       "    <tr>\n",
       "      <th>ssc_p</th>\n",
       "      <td>1.000000</td>\n",
       "      <td>0.511472</td>\n",
       "      <td>0.538404</td>\n",
       "      <td>0.261993</td>\n",
       "      <td>0.388478</td>\n",
       "      <td>0.538090</td>\n",
       "    </tr>\n",
       "    <tr>\n",
       "      <th>hsc_p</th>\n",
       "      <td>0.511472</td>\n",
       "      <td>1.000000</td>\n",
       "      <td>0.434206</td>\n",
       "      <td>0.245113</td>\n",
       "      <td>0.354823</td>\n",
       "      <td>0.452569</td>\n",
       "    </tr>\n",
       "    <tr>\n",
       "      <th>degree_p</th>\n",
       "      <td>0.538404</td>\n",
       "      <td>0.434206</td>\n",
       "      <td>1.000000</td>\n",
       "      <td>0.224470</td>\n",
       "      <td>0.402364</td>\n",
       "      <td>0.408371</td>\n",
       "    </tr>\n",
       "    <tr>\n",
       "      <th>etest_p</th>\n",
       "      <td>0.261993</td>\n",
       "      <td>0.245113</td>\n",
       "      <td>0.224470</td>\n",
       "      <td>1.000000</td>\n",
       "      <td>0.218055</td>\n",
       "      <td>0.186988</td>\n",
       "    </tr>\n",
       "    <tr>\n",
       "      <th>mba_p</th>\n",
       "      <td>0.388478</td>\n",
       "      <td>0.354823</td>\n",
       "      <td>0.402364</td>\n",
       "      <td>0.218055</td>\n",
       "      <td>1.000000</td>\n",
       "      <td>0.139823</td>\n",
       "    </tr>\n",
       "    <tr>\n",
       "      <th>salary</th>\n",
       "      <td>0.538090</td>\n",
       "      <td>0.452569</td>\n",
       "      <td>0.408371</td>\n",
       "      <td>0.186988</td>\n",
       "      <td>0.139823</td>\n",
       "      <td>1.000000</td>\n",
       "    </tr>\n",
       "  </tbody>\n",
       "</table>\n",
       "</div>"
      ],
      "text/plain": [
       "             ssc_p     hsc_p  degree_p   etest_p     mba_p    salary\n",
       "ssc_p     1.000000  0.511472  0.538404  0.261993  0.388478  0.538090\n",
       "hsc_p     0.511472  1.000000  0.434206  0.245113  0.354823  0.452569\n",
       "degree_p  0.538404  0.434206  1.000000  0.224470  0.402364  0.408371\n",
       "etest_p   0.261993  0.245113  0.224470  1.000000  0.218055  0.186988\n",
       "mba_p     0.388478  0.354823  0.402364  0.218055  1.000000  0.139823\n",
       "salary    0.538090  0.452569  0.408371  0.186988  0.139823  1.000000"
      ]
     },
     "execution_count": 25,
     "metadata": {},
     "output_type": "execute_result"
    }
   ],
   "source": [
    "dataset[quan].corr()"
   ]
  },
  {
   "cell_type": "markdown",
   "id": "09559261-9beb-4172-b059-c54f4af2a034",
   "metadata": {},
   "source": [
    "**This table says that the ssc_p has highly correlated with salary. Because the correlation value is higher than the other columns.\n",
    "Correlation coeff = 0.53 strong positive correlation**"
   ]
  },
  {
   "cell_type": "code",
   "execution_count": 26,
   "id": "c4199a45-9f02-4b6f-96aa-42f206cd2b80",
   "metadata": {},
   "outputs": [
    {
     "data": {
      "image/png": "[encoded data removed]",
      "text/plain": [
       "<Figure size 640x480 with 1 Axes>"
      ]
     },
     "metadata": {},
     "output_type": "display_data"
    }
   ],
   "source": [
    "import matplotlib.pyplot as plt\n",
    "x=dataset[dataset['status'] == 'Placed']['ssc_p']\n",
    "y=dataset[dataset['status'] == 'Placed']['salary']\n",
    "plt.scatter(x,y)\n",
    "\n",
    "plt.xlabel('ssc')\n",
    "plt.ylabel('salary')\n",
    "plt.show()"
   ]
  },
  {
   "cell_type": "code",
   "execution_count": 27,
   "id": "f5d816d1-f9e5-4727-b8df-ee29bd9c196d",
   "metadata": {},
   "outputs": [
    {
     "data": {
      "image/png": "[encoded data removed]",
      "text/plain": [
       "<Figure size 500x500 with 1 Axes>"
      ]
     },
     "metadata": {},
     "output_type": "display_data"
    }
   ],
   "source": [
    "import seaborn as sns\n",
    "\n",
    "sns.lmplot(x='ssc_p', y='salary', data=dataset[dataset['status'] == 'Placed'])\n",
    "plt.title('SSC Percentage vs Salary for Placed Students')\n",
    "plt.show()\n"
   ]
  },
  {
   "cell_type": "markdown",
   "id": "b4ca9931-257d-4100-b8a6-fe2d34336e53",
   "metadata": {},
   "source": [
    "`The students with higher ssc_p mark tend to get higher salaries although sometimes it may vary based on the other factors & other columns.`"
   ]
  },
  {
   "cell_type": "code",
   "execution_count": null,
   "id": "9ba9abe1-27b3-43bf-9eeb-d1d6c23b56f6",
   "metadata": {},
   "outputs": [],
   "source": []
  }
 ],
 "metadata": {
  "kernelspec": {
   "display_name": "Python 3 (ipykernel)",
   "language": "python",
   "name": "python3"
  },
  "language_info": {
   "codemirror_mode": {
    "name": "ipython",
    "version": 3
   },
   "file_extension": ".py",
   "mimetype": "text/x-python",
   "name": "python",
   "nbconvert_exporter": "python",
   "pygments_lexer": "ipython3",
   "version": "3.12.3"
  }
 },
 "nbformat": 4,
 "nbformat_minor": 5
}
